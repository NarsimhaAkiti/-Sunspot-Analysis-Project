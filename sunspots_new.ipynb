{
 "cells": [
  {
   "cell_type": "markdown",
   "id": "ee3f159d",
   "metadata": {},
   "source": [
    "# Part 1: Data Analysis"
   ]
  },
  {
   "cell_type": "markdown",
   "id": "8213ca4e",
   "metadata": {},
   "source": [
    "## 1.1 Data Exploring"
   ]
  },
  {
   "cell_type": "code",
   "execution_count": 1,
   "id": "6e4b6376",
   "metadata": {},
   "outputs": [],
   "source": [
    "import pandas as pd\n",
    "import numpy as np\n",
    "import matplotlib.pyplot as plt\n",
    "import seaborn as sns"
   ]
  },
  {
   "cell_type": "code",
   "execution_count": 2,
   "id": "d6cb7cdf",
   "metadata": {},
   "outputs": [
    {
     "data": {
      "text/html": [
       "<div>\n",
       "<style scoped>\n",
       "    .dataframe tbody tr th:only-of-type {\n",
       "        vertical-align: middle;\n",
       "    }\n",
       "\n",
       "    .dataframe tbody tr th {\n",
       "        vertical-align: top;\n",
       "    }\n",
       "\n",
       "    .dataframe thead th {\n",
       "        text-align: right;\n",
       "    }\n",
       "</style>\n",
       "<table border=\"1\" class=\"dataframe\">\n",
       "  <thead>\n",
       "    <tr style=\"text-align: right;\">\n",
       "      <th></th>\n",
       "      <th>Unnamed: 0</th>\n",
       "      <th>Year</th>\n",
       "      <th>Month</th>\n",
       "      <th>Day</th>\n",
       "      <th>Date In Fraction Of Year</th>\n",
       "      <th>Number of Sunspots</th>\n",
       "      <th>Standard Deviation</th>\n",
       "      <th>Observations</th>\n",
       "      <th>Indicator</th>\n",
       "    </tr>\n",
       "  </thead>\n",
       "  <tbody>\n",
       "    <tr>\n",
       "      <th>0</th>\n",
       "      <td>0</td>\n",
       "      <td>1818</td>\n",
       "      <td>1</td>\n",
       "      <td>1</td>\n",
       "      <td>1818.001</td>\n",
       "      <td>-1</td>\n",
       "      <td>-1.0</td>\n",
       "      <td>0</td>\n",
       "      <td>1</td>\n",
       "    </tr>\n",
       "    <tr>\n",
       "      <th>1</th>\n",
       "      <td>1</td>\n",
       "      <td>1818</td>\n",
       "      <td>1</td>\n",
       "      <td>2</td>\n",
       "      <td>1818.004</td>\n",
       "      <td>-1</td>\n",
       "      <td>-1.0</td>\n",
       "      <td>0</td>\n",
       "      <td>1</td>\n",
       "    </tr>\n",
       "    <tr>\n",
       "      <th>2</th>\n",
       "      <td>2</td>\n",
       "      <td>1818</td>\n",
       "      <td>1</td>\n",
       "      <td>3</td>\n",
       "      <td>1818.007</td>\n",
       "      <td>-1</td>\n",
       "      <td>-1.0</td>\n",
       "      <td>0</td>\n",
       "      <td>1</td>\n",
       "    </tr>\n",
       "    <tr>\n",
       "      <th>3</th>\n",
       "      <td>3</td>\n",
       "      <td>1818</td>\n",
       "      <td>1</td>\n",
       "      <td>4</td>\n",
       "      <td>1818.010</td>\n",
       "      <td>-1</td>\n",
       "      <td>-1.0</td>\n",
       "      <td>0</td>\n",
       "      <td>1</td>\n",
       "    </tr>\n",
       "    <tr>\n",
       "      <th>4</th>\n",
       "      <td>4</td>\n",
       "      <td>1818</td>\n",
       "      <td>1</td>\n",
       "      <td>5</td>\n",
       "      <td>1818.012</td>\n",
       "      <td>-1</td>\n",
       "      <td>-1.0</td>\n",
       "      <td>0</td>\n",
       "      <td>1</td>\n",
       "    </tr>\n",
       "  </tbody>\n",
       "</table>\n",
       "</div>"
      ],
      "text/plain": [
       "   Unnamed: 0  Year  Month  Day  Date In Fraction Of Year  Number of Sunspots  \\\n",
       "0           0  1818      1    1                  1818.001                  -1   \n",
       "1           1  1818      1    2                  1818.004                  -1   \n",
       "2           2  1818      1    3                  1818.007                  -1   \n",
       "3           3  1818      1    4                  1818.010                  -1   \n",
       "4           4  1818      1    5                  1818.012                  -1   \n",
       "\n",
       "   Standard Deviation  Observations  Indicator  \n",
       "0                -1.0             0          1  \n",
       "1                -1.0             0          1  \n",
       "2                -1.0             0          1  \n",
       "3                -1.0             0          1  \n",
       "4                -1.0             0          1  "
      ]
     },
     "execution_count": 2,
     "metadata": {},
     "output_type": "execute_result"
    }
   ],
   "source": [
    "#Let's read the data from the file and check the first few rows of the data.\n",
    "df = pd.read_csv(\"sunspot_data.csv\")\n",
    "df.head()"
   ]
  },
  {
   "cell_type": "code",
   "execution_count": 3,
   "id": "7cbe2ead",
   "metadata": {},
   "outputs": [],
   "source": [
    "#Let's remove the repeated index column from the data.\n",
    "df.drop('Unnamed: 0', axis=1, inplace=True)"
   ]
  },
  {
   "cell_type": "code",
   "execution_count": 4,
   "id": "ec245c15",
   "metadata": {},
   "outputs": [
    {
     "data": {
      "text/html": [
       "<div>\n",
       "<style scoped>\n",
       "    .dataframe tbody tr th:only-of-type {\n",
       "        vertical-align: middle;\n",
       "    }\n",
       "\n",
       "    .dataframe tbody tr th {\n",
       "        vertical-align: top;\n",
       "    }\n",
       "\n",
       "    .dataframe thead th {\n",
       "        text-align: right;\n",
       "    }\n",
       "</style>\n",
       "<table border=\"1\" class=\"dataframe\">\n",
       "  <thead>\n",
       "    <tr style=\"text-align: right;\">\n",
       "      <th></th>\n",
       "      <th>Year</th>\n",
       "      <th>Month</th>\n",
       "      <th>Day</th>\n",
       "      <th>Date In Fraction Of Year</th>\n",
       "      <th>Number of Sunspots</th>\n",
       "      <th>Standard Deviation</th>\n",
       "      <th>Observations</th>\n",
       "      <th>Indicator</th>\n",
       "    </tr>\n",
       "  </thead>\n",
       "  <tbody>\n",
       "    <tr>\n",
       "      <th>0</th>\n",
       "      <td>1818</td>\n",
       "      <td>1</td>\n",
       "      <td>1</td>\n",
       "      <td>1818.001</td>\n",
       "      <td>-1</td>\n",
       "      <td>-1.0</td>\n",
       "      <td>0</td>\n",
       "      <td>1</td>\n",
       "    </tr>\n",
       "    <tr>\n",
       "      <th>1</th>\n",
       "      <td>1818</td>\n",
       "      <td>1</td>\n",
       "      <td>2</td>\n",
       "      <td>1818.004</td>\n",
       "      <td>-1</td>\n",
       "      <td>-1.0</td>\n",
       "      <td>0</td>\n",
       "      <td>1</td>\n",
       "    </tr>\n",
       "    <tr>\n",
       "      <th>2</th>\n",
       "      <td>1818</td>\n",
       "      <td>1</td>\n",
       "      <td>3</td>\n",
       "      <td>1818.007</td>\n",
       "      <td>-1</td>\n",
       "      <td>-1.0</td>\n",
       "      <td>0</td>\n",
       "      <td>1</td>\n",
       "    </tr>\n",
       "    <tr>\n",
       "      <th>3</th>\n",
       "      <td>1818</td>\n",
       "      <td>1</td>\n",
       "      <td>4</td>\n",
       "      <td>1818.010</td>\n",
       "      <td>-1</td>\n",
       "      <td>-1.0</td>\n",
       "      <td>0</td>\n",
       "      <td>1</td>\n",
       "    </tr>\n",
       "    <tr>\n",
       "      <th>4</th>\n",
       "      <td>1818</td>\n",
       "      <td>1</td>\n",
       "      <td>5</td>\n",
       "      <td>1818.012</td>\n",
       "      <td>-1</td>\n",
       "      <td>-1.0</td>\n",
       "      <td>0</td>\n",
       "      <td>1</td>\n",
       "    </tr>\n",
       "  </tbody>\n",
       "</table>\n",
       "</div>"
      ],
      "text/plain": [
       "   Year  Month  Day  Date In Fraction Of Year  Number of Sunspots  \\\n",
       "0  1818      1    1                  1818.001                  -1   \n",
       "1  1818      1    2                  1818.004                  -1   \n",
       "2  1818      1    3                  1818.007                  -1   \n",
       "3  1818      1    4                  1818.010                  -1   \n",
       "4  1818      1    5                  1818.012                  -1   \n",
       "\n",
       "   Standard Deviation  Observations  Indicator  \n",
       "0                -1.0             0          1  \n",
       "1                -1.0             0          1  \n",
       "2                -1.0             0          1  \n",
       "3                -1.0             0          1  \n",
       "4                -1.0             0          1  "
      ]
     },
     "execution_count": 4,
     "metadata": {},
     "output_type": "execute_result"
    }
   ],
   "source": [
    "df.head()"
   ]
  },
  {
   "cell_type": "code",
   "execution_count": 5,
   "id": "55bcc3e6",
   "metadata": {},
   "outputs": [
    {
     "data": {
      "text/plain": [
       "(73718, 8)"
      ]
     },
     "execution_count": 5,
     "metadata": {},
     "output_type": "execute_result"
    }
   ],
   "source": [
    "df.shape"
   ]
  },
  {
   "cell_type": "code",
   "execution_count": 6,
   "id": "ba084290",
   "metadata": {},
   "outputs": [
    {
     "data": {
      "text/plain": [
       "Year                        0\n",
       "Month                       0\n",
       "Day                         0\n",
       "Date In Fraction Of Year    0\n",
       "Number of Sunspots          0\n",
       "Standard Deviation          0\n",
       "Observations                0\n",
       "Indicator                   0\n",
       "dtype: int64"
      ]
     },
     "execution_count": 6,
     "metadata": {},
     "output_type": "execute_result"
    }
   ],
   "source": [
    "# Let's check if there's any missing values in the data\n",
    "df.isna().sum()"
   ]
  },
  {
   "cell_type": "code",
   "execution_count": 7,
   "id": "6a4bce1c",
   "metadata": {},
   "outputs": [
    {
     "data": {
      "text/plain": [
       "3247"
      ]
     },
     "execution_count": 7,
     "metadata": {},
     "output_type": "execute_result"
    }
   ],
   "source": [
    "# The missing values of number of sunspots is denoted by -1, so df.isna().sum() didn't find any missing values.\n",
    "sum(df['Number of Sunspots'] == -1)"
   ]
  },
  {
   "cell_type": "code",
   "execution_count": 8,
   "id": "f486c48e",
   "metadata": {},
   "outputs": [],
   "source": [
    "# Thus, we have 3247 missing number of sunspots"
   ]
  },
  {
   "cell_type": "code",
   "execution_count": 9,
   "id": "077e70da",
   "metadata": {},
   "outputs": [
    {
     "name": "stdout",
     "output_type": "stream",
     "text": [
      "<class 'pandas.core.frame.DataFrame'>\n",
      "RangeIndex: 73718 entries, 0 to 73717\n",
      "Data columns (total 8 columns):\n",
      " #   Column                    Non-Null Count  Dtype  \n",
      "---  ------                    --------------  -----  \n",
      " 0   Year                      73718 non-null  int64  \n",
      " 1   Month                     73718 non-null  int64  \n",
      " 2   Day                       73718 non-null  int64  \n",
      " 3   Date In Fraction Of Year  73718 non-null  float64\n",
      " 4   Number of Sunspots        73718 non-null  int64  \n",
      " 5   Standard Deviation        73718 non-null  float64\n",
      " 6   Observations              73718 non-null  int64  \n",
      " 7   Indicator                 73718 non-null  int64  \n",
      "dtypes: float64(2), int64(6)\n",
      "memory usage: 4.5 MB\n"
     ]
    }
   ],
   "source": [
    "df.info()"
   ]
  },
  {
   "cell_type": "code",
   "execution_count": 10,
   "id": "6cd5b9e8",
   "metadata": {},
   "outputs": [
    {
     "data": {
      "text/html": [
       "<div>\n",
       "<style scoped>\n",
       "    .dataframe tbody tr th:only-of-type {\n",
       "        vertical-align: middle;\n",
       "    }\n",
       "\n",
       "    .dataframe tbody tr th {\n",
       "        vertical-align: top;\n",
       "    }\n",
       "\n",
       "    .dataframe thead th {\n",
       "        text-align: right;\n",
       "    }\n",
       "</style>\n",
       "<table border=\"1\" class=\"dataframe\">\n",
       "  <thead>\n",
       "    <tr style=\"text-align: right;\">\n",
       "      <th></th>\n",
       "      <th>Year</th>\n",
       "      <th>Month</th>\n",
       "      <th>Day</th>\n",
       "      <th>Date In Fraction Of Year</th>\n",
       "      <th>Number of Sunspots</th>\n",
       "      <th>Standard Deviation</th>\n",
       "      <th>Observations</th>\n",
       "      <th>Indicator</th>\n",
       "    </tr>\n",
       "  </thead>\n",
       "  <tbody>\n",
       "    <tr>\n",
       "      <th>count</th>\n",
       "      <td>73718.000000</td>\n",
       "      <td>73718.000000</td>\n",
       "      <td>73718.000000</td>\n",
       "      <td>73718.000000</td>\n",
       "      <td>73718.000000</td>\n",
       "      <td>73718.000000</td>\n",
       "      <td>73718.000000</td>\n",
       "      <td>73718.000000</td>\n",
       "    </tr>\n",
       "    <tr>\n",
       "      <th>mean</th>\n",
       "      <td>1918.416750</td>\n",
       "      <td>6.518896</td>\n",
       "      <td>15.729347</td>\n",
       "      <td>1918.916406</td>\n",
       "      <td>79.248732</td>\n",
       "      <td>6.924587</td>\n",
       "      <td>4.429678</td>\n",
       "      <td>0.998331</td>\n",
       "    </tr>\n",
       "    <tr>\n",
       "      <th>std</th>\n",
       "      <td>58.264401</td>\n",
       "      <td>3.447114</td>\n",
       "      <td>8.800032</td>\n",
       "      <td>58.264520</td>\n",
       "      <td>77.470942</td>\n",
       "      <td>4.778793</td>\n",
       "      <td>7.884112</td>\n",
       "      <td>0.040814</td>\n",
       "    </tr>\n",
       "    <tr>\n",
       "      <th>min</th>\n",
       "      <td>1818.000000</td>\n",
       "      <td>1.000000</td>\n",
       "      <td>1.000000</td>\n",
       "      <td>1818.001000</td>\n",
       "      <td>-1.000000</td>\n",
       "      <td>-1.000000</td>\n",
       "      <td>0.000000</td>\n",
       "      <td>0.000000</td>\n",
       "    </tr>\n",
       "    <tr>\n",
       "      <th>25%</th>\n",
       "      <td>1868.000000</td>\n",
       "      <td>4.000000</td>\n",
       "      <td>8.000000</td>\n",
       "      <td>1868.458500</td>\n",
       "      <td>15.000000</td>\n",
       "      <td>3.000000</td>\n",
       "      <td>1.000000</td>\n",
       "      <td>1.000000</td>\n",
       "    </tr>\n",
       "    <tr>\n",
       "      <th>50%</th>\n",
       "      <td>1918.000000</td>\n",
       "      <td>7.000000</td>\n",
       "      <td>16.000000</td>\n",
       "      <td>1918.917500</td>\n",
       "      <td>58.000000</td>\n",
       "      <td>6.600000</td>\n",
       "      <td>1.000000</td>\n",
       "      <td>1.000000</td>\n",
       "    </tr>\n",
       "    <tr>\n",
       "      <th>75%</th>\n",
       "      <td>1969.000000</td>\n",
       "      <td>10.000000</td>\n",
       "      <td>23.000000</td>\n",
       "      <td>1969.373250</td>\n",
       "      <td>125.000000</td>\n",
       "      <td>10.000000</td>\n",
       "      <td>1.000000</td>\n",
       "      <td>1.000000</td>\n",
       "    </tr>\n",
       "    <tr>\n",
       "      <th>max</th>\n",
       "      <td>2019.000000</td>\n",
       "      <td>12.000000</td>\n",
       "      <td>31.000000</td>\n",
       "      <td>2019.832000</td>\n",
       "      <td>528.000000</td>\n",
       "      <td>77.700000</td>\n",
       "      <td>60.000000</td>\n",
       "      <td>1.000000</td>\n",
       "    </tr>\n",
       "  </tbody>\n",
       "</table>\n",
       "</div>"
      ],
      "text/plain": [
       "               Year         Month           Day  Date In Fraction Of Year  \\\n",
       "count  73718.000000  73718.000000  73718.000000              73718.000000   \n",
       "mean    1918.416750      6.518896     15.729347               1918.916406   \n",
       "std       58.264401      3.447114      8.800032                 58.264520   \n",
       "min     1818.000000      1.000000      1.000000               1818.001000   \n",
       "25%     1868.000000      4.000000      8.000000               1868.458500   \n",
       "50%     1918.000000      7.000000     16.000000               1918.917500   \n",
       "75%     1969.000000     10.000000     23.000000               1969.373250   \n",
       "max     2019.000000     12.000000     31.000000               2019.832000   \n",
       "\n",
       "       Number of Sunspots  Standard Deviation  Observations     Indicator  \n",
       "count        73718.000000        73718.000000  73718.000000  73718.000000  \n",
       "mean            79.248732            6.924587      4.429678      0.998331  \n",
       "std             77.470942            4.778793      7.884112      0.040814  \n",
       "min             -1.000000           -1.000000      0.000000      0.000000  \n",
       "25%             15.000000            3.000000      1.000000      1.000000  \n",
       "50%             58.000000            6.600000      1.000000      1.000000  \n",
       "75%            125.000000           10.000000      1.000000      1.000000  \n",
       "max            528.000000           77.700000     60.000000      1.000000  "
      ]
     },
     "execution_count": 10,
     "metadata": {},
     "output_type": "execute_result"
    }
   ],
   "source": [
    "df.describe()"
   ]
  },
  {
   "cell_type": "markdown",
   "id": "6198d8e0",
   "metadata": {},
   "source": [
    "## 1.2 Exploratory Data Analysis"
   ]
  },
  {
   "cell_type": "code",
   "execution_count": 11,
   "id": "ca2baa63",
   "metadata": {},
   "outputs": [
    {
     "data": {
      "image/png": "[encoded data removed]",
      "text/plain": [
       "<Figure size 640x480 with 1 Axes>"
      ]
     },
     "metadata": {},
     "output_type": "display_data"
    }
   ],
   "source": [
    "# (1) Sunspots distribution \n",
    "df.plot('Date In Fraction Of Year', 'Number of Sunspots');"
   ]
  },
  {
   "cell_type": "markdown",
   "id": "d4bb1a01",
   "metadata": {},
   "source": [
    "From abover plot we can see that there is periodic increase in number of sunspots."
   ]
  },
  {
   "cell_type": "code",
   "execution_count": 12,
   "id": "04bf5224",
   "metadata": {},
   "outputs": [
    {
     "data": {
      "text/plain": [
       "Standard Deviation          0.837165\n",
       "Date In Fraction Of Year    0.128850\n",
       "Year                        0.128837\n",
       "Indicator                   0.041408\n",
       "Month                       0.002993\n",
       "Day                        -0.002208\n",
       "Observations               -0.028468\n",
       "dtype: float64"
      ]
     },
     "execution_count": 12,
     "metadata": {},
     "output_type": "execute_result"
    }
   ],
   "source": [
    "# Let's see the correlations\n",
    "y1 = df['Number of Sunspots']\n",
    "X1 = df.drop(columns = [\"Number of Sunspots\"] ) \n",
    "# corelation y ~ X \n",
    "corr_X1 = X1.corrwith(y1)\n",
    "corr_X1.sort_values(ascending=False)"
   ]
  },
  {
   "cell_type": "code",
   "execution_count": 13,
   "id": "39209b05",
   "metadata": {},
   "outputs": [
    {
     "data": {
      "image/png": "[encoded data removed]",
      "text/plain": [
       "<Figure size 1400x800 with 2 Axes>"
      ]
     },
     "metadata": {},
     "output_type": "display_data"
    }
   ],
   "source": [
    "# (2) correlation matrix X ~ X\n",
    "\n",
    "# use a bigger size\n",
    "plt.figure(figsize=(14, 8))\n",
    "\n",
    "# correlation heatmap\n",
    "sns.heatmap(X1.corr(), annot=True, linewidth =1)\n",
    "\n",
    "plt.show() "
   ]
  },
  {
   "cell_type": "code",
   "execution_count": 14,
   "id": "70f3040e",
   "metadata": {},
   "outputs": [
    {
     "data": {
      "text/html": [
       "<div>\n",
       "<style scoped>\n",
       "    .dataframe tbody tr th:only-of-type {\n",
       "        vertical-align: middle;\n",
       "    }\n",
       "\n",
       "    .dataframe tbody tr th {\n",
       "        vertical-align: top;\n",
       "    }\n",
       "\n",
       "    .dataframe thead th {\n",
       "        text-align: right;\n",
       "    }\n",
       "</style>\n",
       "<table border=\"1\" class=\"dataframe\">\n",
       "  <thead>\n",
       "    <tr style=\"text-align: right;\">\n",
       "      <th></th>\n",
       "      <th>Year</th>\n",
       "      <th>Month</th>\n",
       "      <th>Day</th>\n",
       "      <th>Date In Fraction Of Year</th>\n",
       "      <th>Number of Sunspots</th>\n",
       "      <th>Standard Deviation</th>\n",
       "      <th>Observations</th>\n",
       "      <th>Indicator</th>\n",
       "    </tr>\n",
       "  </thead>\n",
       "  <tbody>\n",
       "    <tr>\n",
       "      <th>Year</th>\n",
       "      <td>1.000000</td>\n",
       "      <td>-0.002064</td>\n",
       "      <td>-0.000006</td>\n",
       "      <td>0.999988</td>\n",
       "      <td>0.128837</td>\n",
       "      <td>-0.149085</td>\n",
       "      <td>0.638723</td>\n",
       "      <td>-0.070575</td>\n",
       "    </tr>\n",
       "    <tr>\n",
       "      <th>Month</th>\n",
       "      <td>-0.002064</td>\n",
       "      <td>1.000000</td>\n",
       "      <td>0.010570</td>\n",
       "      <td>0.002871</td>\n",
       "      <td>0.002993</td>\n",
       "      <td>0.002403</td>\n",
       "      <td>-0.005204</td>\n",
       "      <td>-0.023447</td>\n",
       "    </tr>\n",
       "    <tr>\n",
       "      <th>Day</th>\n",
       "      <td>-0.000006</td>\n",
       "      <td>0.010570</td>\n",
       "      <td>1.000000</td>\n",
       "      <td>0.000459</td>\n",
       "      <td>-0.002208</td>\n",
       "      <td>-0.005698</td>\n",
       "      <td>-0.000928</td>\n",
       "      <td>-0.000691</td>\n",
       "    </tr>\n",
       "    <tr>\n",
       "      <th>Date In Fraction Of Year</th>\n",
       "      <td>0.999988</td>\n",
       "      <td>0.002871</td>\n",
       "      <td>0.000459</td>\n",
       "      <td>1.000000</td>\n",
       "      <td>0.128850</td>\n",
       "      <td>-0.149076</td>\n",
       "      <td>0.638695</td>\n",
       "      <td>-0.070691</td>\n",
       "    </tr>\n",
       "    <tr>\n",
       "      <th>Number of Sunspots</th>\n",
       "      <td>0.128837</td>\n",
       "      <td>0.002993</td>\n",
       "      <td>-0.002208</td>\n",
       "      <td>0.128850</td>\n",
       "      <td>1.000000</td>\n",
       "      <td>0.837165</td>\n",
       "      <td>-0.028468</td>\n",
       "      <td>0.041408</td>\n",
       "    </tr>\n",
       "    <tr>\n",
       "      <th>Standard Deviation</th>\n",
       "      <td>-0.149085</td>\n",
       "      <td>0.002403</td>\n",
       "      <td>-0.005698</td>\n",
       "      <td>-0.149076</td>\n",
       "      <td>0.837165</td>\n",
       "      <td>1.000000</td>\n",
       "      <td>-0.147914</td>\n",
       "      <td>0.058801</td>\n",
       "    </tr>\n",
       "    <tr>\n",
       "      <th>Observations</th>\n",
       "      <td>0.638723</td>\n",
       "      <td>-0.005204</td>\n",
       "      <td>-0.000928</td>\n",
       "      <td>0.638695</td>\n",
       "      <td>-0.028468</td>\n",
       "      <td>-0.147914</td>\n",
       "      <td>1.000000</td>\n",
       "      <td>-0.148822</td>\n",
       "    </tr>\n",
       "    <tr>\n",
       "      <th>Indicator</th>\n",
       "      <td>-0.070575</td>\n",
       "      <td>-0.023447</td>\n",
       "      <td>-0.000691</td>\n",
       "      <td>-0.070691</td>\n",
       "      <td>0.041408</td>\n",
       "      <td>0.058801</td>\n",
       "      <td>-0.148822</td>\n",
       "      <td>1.000000</td>\n",
       "    </tr>\n",
       "  </tbody>\n",
       "</table>\n",
       "</div>"
      ],
      "text/plain": [
       "                              Year     Month       Day  \\\n",
       "Year                      1.000000 -0.002064 -0.000006   \n",
       "Month                    -0.002064  1.000000  0.010570   \n",
       "Day                      -0.000006  0.010570  1.000000   \n",
       "Date In Fraction Of Year  0.999988  0.002871  0.000459   \n",
       "Number of Sunspots        0.128837  0.002993 -0.002208   \n",
       "Standard Deviation       -0.149085  0.002403 -0.005698   \n",
       "Observations              0.638723 -0.005204 -0.000928   \n",
       "Indicator                -0.070575 -0.023447 -0.000691   \n",
       "\n",
       "                          Date In Fraction Of Year  Number of Sunspots  \\\n",
       "Year                                      0.999988            0.128837   \n",
       "Month                                     0.002871            0.002993   \n",
       "Day                                       0.000459           -0.002208   \n",
       "Date In Fraction Of Year                  1.000000            0.128850   \n",
       "Number of Sunspots                        0.128850            1.000000   \n",
       "Standard Deviation                       -0.149076            0.837165   \n",
       "Observations                              0.638695           -0.028468   \n",
       "Indicator                                -0.070691            0.041408   \n",
       "\n",
       "                          Standard Deviation  Observations  Indicator  \n",
       "Year                               -0.149085      0.638723  -0.070575  \n",
       "Month                               0.002403     -0.005204  -0.023447  \n",
       "Day                                -0.005698     -0.000928  -0.000691  \n",
       "Date In Fraction Of Year           -0.149076      0.638695  -0.070691  \n",
       "Number of Sunspots                  0.837165     -0.028468   0.041408  \n",
       "Standard Deviation                  1.000000     -0.147914   0.058801  \n",
       "Observations                       -0.147914      1.000000  -0.148822  \n",
       "Indicator                           0.058801     -0.148822   1.000000  "
      ]
     },
     "execution_count": 14,
     "metadata": {},
     "output_type": "execute_result"
    }
   ],
   "source": [
    "corr_df = df.corr()\n",
    "corr_df"
   ]
  },
  {
   "cell_type": "markdown",
   "id": "e480b2da",
   "metadata": {},
   "source": [
    "# Part 2: Machine Learning"
   ]
  },
  {
   "cell_type": "markdown",
   "id": "faa4ec0f",
   "metadata": {},
   "source": [
    "## 2.1 Feature Engineering and Selection"
   ]
  },
  {
   "cell_type": "code",
   "execution_count": 15,
   "id": "d7320610",
   "metadata": {},
   "outputs": [
    {
     "data": {
      "text/html": [
       "<div>\n",
       "<style scoped>\n",
       "    .dataframe tbody tr th:only-of-type {\n",
       "        vertical-align: middle;\n",
       "    }\n",
       "\n",
       "    .dataframe tbody tr th {\n",
       "        vertical-align: top;\n",
       "    }\n",
       "\n",
       "    .dataframe thead th {\n",
       "        text-align: right;\n",
       "    }\n",
       "</style>\n",
       "<table border=\"1\" class=\"dataframe\">\n",
       "  <thead>\n",
       "    <tr style=\"text-align: right;\">\n",
       "      <th></th>\n",
       "      <th>Year</th>\n",
       "      <th>Month</th>\n",
       "      <th>Day</th>\n",
       "      <th>Date In Fraction Of Year</th>\n",
       "      <th>Number of Sunspots</th>\n",
       "      <th>Standard Deviation</th>\n",
       "      <th>Observations</th>\n",
       "      <th>Indicator</th>\n",
       "    </tr>\n",
       "  </thead>\n",
       "  <tbody>\n",
       "    <tr>\n",
       "      <th>7</th>\n",
       "      <td>1818</td>\n",
       "      <td>1</td>\n",
       "      <td>8</td>\n",
       "      <td>1818.021</td>\n",
       "      <td>65</td>\n",
       "      <td>10.2</td>\n",
       "      <td>1</td>\n",
       "      <td>1</td>\n",
       "    </tr>\n",
       "    <tr>\n",
       "      <th>12</th>\n",
       "      <td>1818</td>\n",
       "      <td>1</td>\n",
       "      <td>13</td>\n",
       "      <td>1818.034</td>\n",
       "      <td>37</td>\n",
       "      <td>7.7</td>\n",
       "      <td>1</td>\n",
       "      <td>1</td>\n",
       "    </tr>\n",
       "    <tr>\n",
       "      <th>16</th>\n",
       "      <td>1818</td>\n",
       "      <td>1</td>\n",
       "      <td>17</td>\n",
       "      <td>1818.045</td>\n",
       "      <td>77</td>\n",
       "      <td>11.1</td>\n",
       "      <td>1</td>\n",
       "      <td>1</td>\n",
       "    </tr>\n",
       "    <tr>\n",
       "      <th>17</th>\n",
       "      <td>1818</td>\n",
       "      <td>1</td>\n",
       "      <td>18</td>\n",
       "      <td>1818.048</td>\n",
       "      <td>98</td>\n",
       "      <td>12.6</td>\n",
       "      <td>1</td>\n",
       "      <td>1</td>\n",
       "    </tr>\n",
       "    <tr>\n",
       "      <th>18</th>\n",
       "      <td>1818</td>\n",
       "      <td>1</td>\n",
       "      <td>19</td>\n",
       "      <td>1818.051</td>\n",
       "      <td>105</td>\n",
       "      <td>13.0</td>\n",
       "      <td>1</td>\n",
       "      <td>1</td>\n",
       "    </tr>\n",
       "  </tbody>\n",
       "</table>\n",
       "</div>"
      ],
      "text/plain": [
       "    Year  Month  Day  Date In Fraction Of Year  Number of Sunspots  \\\n",
       "7   1818      1    8                  1818.021                  65   \n",
       "12  1818      1   13                  1818.034                  37   \n",
       "16  1818      1   17                  1818.045                  77   \n",
       "17  1818      1   18                  1818.048                  98   \n",
       "18  1818      1   19                  1818.051                 105   \n",
       "\n",
       "    Standard Deviation  Observations  Indicator  \n",
       "7                 10.2             1          1  \n",
       "12                 7.7             1          1  \n",
       "16                11.1             1          1  \n",
       "17                12.6             1          1  \n",
       "18                13.0             1          1  "
      ]
     },
     "execution_count": 15,
     "metadata": {},
     "output_type": "execute_result"
    }
   ],
   "source": [
    "# Let's drop the rows with missing number of sunspots values(i.e. -1).\n",
    "df = df.drop(df[df['Number of Sunspots'] == -1].index)\n",
    "df.head()"
   ]
  },
  {
   "cell_type": "code",
   "execution_count": 16,
   "id": "04439d60",
   "metadata": {},
   "outputs": [
    {
     "data": {
      "text/plain": [
       "Standard Deviation          0.831973\n",
       "Date In Fraction Of Year    0.064322\n",
       "Year                        0.064302\n",
       "Indicator                   0.044474\n",
       "Month                       0.003905\n",
       "Day                        -0.000028\n",
       "Observations               -0.057121\n",
       "dtype: float64"
      ]
     },
     "execution_count": 16,
     "metadata": {},
     "output_type": "execute_result"
    }
   ],
   "source": [
    "# Let's see the correlations again\n",
    "y1 = df['Number of Sunspots']\n",
    "X1 = df.drop(columns = [\"Number of Sunspots\"] ) \n",
    "# corelation y ~ X \n",
    "corr_X1 = X1.corrwith(y1)\n",
    "corr_X1.sort_values(ascending=False)"
   ]
  },
  {
   "cell_type": "code",
   "execution_count": 17,
   "id": "887a640f",
   "metadata": {},
   "outputs": [],
   "source": [
    "# Let's drop the less important features, i.e. features with low correlation.\n",
    "df.drop(['Month','Day','Observations', 'Indicator'], axis=1, inplace=True)"
   ]
  },
  {
   "cell_type": "code",
   "execution_count": 18,
   "id": "6c193634",
   "metadata": {},
   "outputs": [
    {
     "data": {
      "text/html": [
       "<div>\n",
       "<style scoped>\n",
       "    .dataframe tbody tr th:only-of-type {\n",
       "        vertical-align: middle;\n",
       "    }\n",
       "\n",
       "    .dataframe tbody tr th {\n",
       "        vertical-align: top;\n",
       "    }\n",
       "\n",
       "    .dataframe thead th {\n",
       "        text-align: right;\n",
       "    }\n",
       "</style>\n",
       "<table border=\"1\" class=\"dataframe\">\n",
       "  <thead>\n",
       "    <tr style=\"text-align: right;\">\n",
       "      <th></th>\n",
       "      <th>Year</th>\n",
       "      <th>Date In Fraction Of Year</th>\n",
       "      <th>Number of Sunspots</th>\n",
       "      <th>Standard Deviation</th>\n",
       "    </tr>\n",
       "  </thead>\n",
       "  <tbody>\n",
       "    <tr>\n",
       "      <th>count</th>\n",
       "      <td>70471.000000</td>\n",
       "      <td>70471.000000</td>\n",
       "      <td>70471.000000</td>\n",
       "      <td>70471.000000</td>\n",
       "    </tr>\n",
       "    <tr>\n",
       "      <th>mean</th>\n",
       "      <td>1922.314683</td>\n",
       "      <td>1922.814074</td>\n",
       "      <td>82.946247</td>\n",
       "      <td>7.289718</td>\n",
       "    </tr>\n",
       "    <tr>\n",
       "      <th>std</th>\n",
       "      <td>56.591214</td>\n",
       "      <td>56.591651</td>\n",
       "      <td>77.252109</td>\n",
       "      <td>4.567518</td>\n",
       "    </tr>\n",
       "    <tr>\n",
       "      <th>min</th>\n",
       "      <td>1818.000000</td>\n",
       "      <td>1818.021000</td>\n",
       "      <td>0.000000</td>\n",
       "      <td>0.000000</td>\n",
       "    </tr>\n",
       "    <tr>\n",
       "      <th>25%</th>\n",
       "      <td>1875.000000</td>\n",
       "      <td>1875.126000</td>\n",
       "      <td>21.000000</td>\n",
       "      <td>3.500000</td>\n",
       "    </tr>\n",
       "    <tr>\n",
       "      <th>50%</th>\n",
       "      <td>1923.000000</td>\n",
       "      <td>1923.363000</td>\n",
       "      <td>63.000000</td>\n",
       "      <td>6.800000</td>\n",
       "    </tr>\n",
       "    <tr>\n",
       "      <th>75%</th>\n",
       "      <td>1971.000000</td>\n",
       "      <td>1971.597500</td>\n",
       "      <td>127.000000</td>\n",
       "      <td>10.200000</td>\n",
       "    </tr>\n",
       "    <tr>\n",
       "      <th>max</th>\n",
       "      <td>2019.000000</td>\n",
       "      <td>2019.832000</td>\n",
       "      <td>528.000000</td>\n",
       "      <td>77.700000</td>\n",
       "    </tr>\n",
       "  </tbody>\n",
       "</table>\n",
       "</div>"
      ],
      "text/plain": [
       "               Year  Date In Fraction Of Year  Number of Sunspots  \\\n",
       "count  70471.000000              70471.000000        70471.000000   \n",
       "mean    1922.314683               1922.814074           82.946247   \n",
       "std       56.591214                 56.591651           77.252109   \n",
       "min     1818.000000               1818.021000            0.000000   \n",
       "25%     1875.000000               1875.126000           21.000000   \n",
       "50%     1923.000000               1923.363000           63.000000   \n",
       "75%     1971.000000               1971.597500          127.000000   \n",
       "max     2019.000000               2019.832000          528.000000   \n",
       "\n",
       "       Standard Deviation  \n",
       "count        70471.000000  \n",
       "mean             7.289718  \n",
       "std              4.567518  \n",
       "min              0.000000  \n",
       "25%              3.500000  \n",
       "50%              6.800000  \n",
       "75%             10.200000  \n",
       "max             77.700000  "
      ]
     },
     "execution_count": 18,
     "metadata": {},
     "output_type": "execute_result"
    }
   ],
   "source": [
    "df.describe()"
   ]
  },
  {
   "cell_type": "markdown",
   "id": "8ddb4fa9",
   "metadata": {},
   "source": [
    "## 2.2 Machine Learning Models"
   ]
  },
  {
   "cell_type": "code",
   "execution_count": 19,
   "id": "abbd70d3",
   "metadata": {},
   "outputs": [],
   "source": [
    "from sklearn.model_selection import train_test_split\n",
    "from sklearn import metrics"
   ]
  },
  {
   "cell_type": "code",
   "execution_count": 20,
   "id": "6603a7a8",
   "metadata": {},
   "outputs": [],
   "source": [
    "y = df['Number of Sunspots']\n",
    "X = df.drop(columns = [\"Number of Sunspots\"] ) "
   ]
  },
  {
   "cell_type": "code",
   "execution_count": 21,
   "id": "f498327a",
   "metadata": {},
   "outputs": [],
   "source": [
    "X_train, X_test, y_train, y_test = train_test_split(X, y, test_size=0.2, random_state=42)"
   ]
  },
  {
   "cell_type": "code",
   "execution_count": 22,
   "id": "5d4b0e69",
   "metadata": {},
   "outputs": [],
   "source": [
    "from sklearn.preprocessing import StandardScaler\n",
    "scale=StandardScaler()\n",
    "X_scaled_trained=scale.fit_transform(X_train)\n",
    "X_scaled_test = scale.transform(X_test)"
   ]
  },
  {
   "cell_type": "code",
   "execution_count": 23,
   "id": "80251628",
   "metadata": {},
   "outputs": [],
   "source": [
    "from sklearn.compose import ColumnTransformer\n",
    "from sklearn.impute import SimpleImputer\n",
    "\n",
    "preprocessor = ColumnTransformer(\n",
    "    transformers=[\n",
    "        ('num', SimpleImputer(strategy='mean'), X.columns)\n",
    "    ])"
   ]
  },
  {
   "cell_type": "code",
   "execution_count": null,
   "id": "306b9706",
   "metadata": {},
   "outputs": [],
   "source": []
  },
  {
   "cell_type": "markdown",
   "id": "38d036ae",
   "metadata": {},
   "source": [
    "### Model 1: Random Forest Regressor"
   ]
  },
  {
   "cell_type": "code",
   "execution_count": 24,
   "id": "82a8cbc4",
   "metadata": {},
   "outputs": [
    {
     "data": {
      "text/html": [
       "<style>#sk-container-id-1 {color: black;}#sk-container-id-1 pre{padding: 0;}#sk-container-id-1 div.sk-toggleable {background-color: white;}#sk-container-id-1 label.sk-toggleable__label {cursor: pointer;display: block;width: 100%;margin-bottom: 0;padding: 0.3em;box-sizing: border-box;text-align: center;}#sk-container-id-1 label.sk-toggleable__label-arrow:before {content: \"▸\";float: left;margin-right: 0.25em;color: #696969;}#sk-container-id-1 label.sk-toggleable__label-arrow:hover:before {color: black;}#sk-container-id-1 div.sk-estimator:hover label.sk-toggleable__label-arrow:before {color: black;}#sk-container-id-1 div.sk-toggleable__content {max-height: 0;max-width: 0;overflow: hidden;text-align: left;background-color: #f0f8ff;}#sk-container-id-1 div.sk-toggleable__content pre {margin: 0.2em;color: black;border-radius: 0.25em;background-color: #f0f8ff;}#sk-container-id-1 input.sk-toggleable__control:checked~div.sk-toggleable__content {max-height: 200px;max-width: 100%;overflow: auto;}#sk-container-id-1 input.sk-toggleable__control:checked~label.sk-toggleable__label-arrow:before {content: \"▾\";}#sk-container-id-1 div.sk-estimator input.sk-toggleable__control:checked~label.sk-toggleable__label {background-color: #d4ebff;}#sk-container-id-1 div.sk-label input.sk-toggleable__control:checked~label.sk-toggleable__label {background-color: #d4ebff;}#sk-container-id-1 input.sk-hidden--visually {border: 0;clip: rect(1px 1px 1px 1px);clip: rect(1px, 1px, 1px, 1px);height: 1px;margin: -1px;overflow: hidden;padding: 0;position: absolute;width: 1px;}#sk-container-id-1 div.sk-estimator {font-family: monospace;background-color: #f0f8ff;border: 1px dotted black;border-radius: 0.25em;box-sizing: border-box;margin-bottom: 0.5em;}#sk-container-id-1 div.sk-estimator:hover {background-color: #d4ebff;}#sk-container-id-1 div.sk-parallel-item::after {content: \"\";width: 100%;border-bottom: 1px solid gray;flex-grow: 1;}#sk-container-id-1 div.sk-label:hover label.sk-toggleable__label {background-color: #d4ebff;}#sk-container-id-1 div.sk-serial::before {content: \"\";position: absolute;border-left: 1px solid gray;box-sizing: border-box;top: 0;bottom: 0;left: 50%;z-index: 0;}#sk-container-id-1 div.sk-serial {display: flex;flex-direction: column;align-items: center;background-color: white;padding-right: 0.2em;padding-left: 0.2em;position: relative;}#sk-container-id-1 div.sk-item {position: relative;z-index: 1;}#sk-container-id-1 div.sk-parallel {display: flex;align-items: stretch;justify-content: center;background-color: white;position: relative;}#sk-container-id-1 div.sk-item::before, #sk-container-id-1 div.sk-parallel-item::before {content: \"\";position: absolute;border-left: 1px solid gray;box-sizing: border-box;top: 0;bottom: 0;left: 50%;z-index: -1;}#sk-container-id-1 div.sk-parallel-item {display: flex;flex-direction: column;z-index: 1;position: relative;background-color: white;}#sk-container-id-1 div.sk-parallel-item:first-child::after {align-self: flex-end;width: 50%;}#sk-container-id-1 div.sk-parallel-item:last-child::after {align-self: flex-start;width: 50%;}#sk-container-id-1 div.sk-parallel-item:only-child::after {width: 0;}#sk-container-id-1 div.sk-dashed-wrapped {border: 1px dashed gray;margin: 0 0.4em 0.5em 0.4em;box-sizing: border-box;padding-bottom: 0.4em;background-color: white;}#sk-container-id-1 div.sk-label label {font-family: monospace;font-weight: bold;display: inline-block;line-height: 1.2em;}#sk-container-id-1 div.sk-label-container {text-align: center;}#sk-container-id-1 div.sk-container {/* jupyter's `normalize.less` sets `[hidden] { display: none; }` but bootstrap.min.css set `[hidden] { display: none !important; }` so we also need the `!important` here to be able to override the default hidden behavior on the sphinx rendered scikit-learn.org. See: https://github.com/scikit-learn/scikit-learn/issues/21755 */display: inline-block !important;position: relative;}#sk-container-id-1 div.sk-text-repr-fallback {display: none;}</style><div id=\"sk-container-id-1\" class=\"sk-top-container\"><div class=\"sk-text-repr-fallback\"><pre>Pipeline(steps=[(&#x27;preprocessor&#x27;,\n",
       "                 ColumnTransformer(transformers=[(&#x27;num&#x27;, SimpleImputer(),\n",
       "                                                  Index([&#x27;Year&#x27;, &#x27;Date In Fraction Of Year&#x27;, &#x27;Standard Deviation&#x27;], dtype=&#x27;object&#x27;))])),\n",
       "                (&#x27;regressor&#x27;, RandomForestRegressor(random_state=42))])</pre><b>In a Jupyter environment, please rerun this cell to show the HTML representation or trust the notebook. <br />On GitHub, the HTML representation is unable to render, please try loading this page with nbviewer.org.</b></div><div class=\"sk-container\" hidden><div class=\"sk-item sk-dashed-wrapped\"><div class=\"sk-label-container\"><div class=\"sk-label sk-toggleable\"><input class=\"sk-toggleable__control sk-hidden--visually\" id=\"sk-estimator-id-1\" type=\"checkbox\" ><label for=\"sk-estimator-id-1\" class=\"sk-toggleable__label sk-toggleable__label-arrow\">Pipeline</label><div class=\"sk-toggleable__content\"><pre>Pipeline(steps=[(&#x27;preprocessor&#x27;,\n",
       "                 ColumnTransformer(transformers=[(&#x27;num&#x27;, SimpleImputer(),\n",
       "                                                  Index([&#x27;Year&#x27;, &#x27;Date In Fraction Of Year&#x27;, &#x27;Standard Deviation&#x27;], dtype=&#x27;object&#x27;))])),\n",
       "                (&#x27;regressor&#x27;, RandomForestRegressor(random_state=42))])</pre></div></div></div><div class=\"sk-serial\"><div class=\"sk-item sk-dashed-wrapped\"><div class=\"sk-label-container\"><div class=\"sk-label sk-toggleable\"><input class=\"sk-toggleable__control sk-hidden--visually\" id=\"sk-estimator-id-2\" type=\"checkbox\" ><label for=\"sk-estimator-id-2\" class=\"sk-toggleable__label sk-toggleable__label-arrow\">preprocessor: ColumnTransformer</label><div class=\"sk-toggleable__content\"><pre>ColumnTransformer(transformers=[(&#x27;num&#x27;, SimpleImputer(),\n",
       "                                 Index([&#x27;Year&#x27;, &#x27;Date In Fraction Of Year&#x27;, &#x27;Standard Deviation&#x27;], dtype=&#x27;object&#x27;))])</pre></div></div></div><div class=\"sk-parallel\"><div class=\"sk-parallel-item\"><div class=\"sk-item\"><div class=\"sk-label-container\"><div class=\"sk-label sk-toggleable\"><input class=\"sk-toggleable__control sk-hidden--visually\" id=\"sk-estimator-id-3\" type=\"checkbox\" ><label for=\"sk-estimator-id-3\" class=\"sk-toggleable__label sk-toggleable__label-arrow\">num</label><div class=\"sk-toggleable__content\"><pre>Index([&#x27;Year&#x27;, &#x27;Date In Fraction Of Year&#x27;, &#x27;Standard Deviation&#x27;], dtype=&#x27;object&#x27;)</pre></div></div></div><div class=\"sk-serial\"><div class=\"sk-item\"><div class=\"sk-estimator sk-toggleable\"><input class=\"sk-toggleable__control sk-hidden--visually\" id=\"sk-estimator-id-4\" type=\"checkbox\" ><label for=\"sk-estimator-id-4\" class=\"sk-toggleable__label sk-toggleable__label-arrow\">SimpleImputer</label><div class=\"sk-toggleable__content\"><pre>SimpleImputer()</pre></div></div></div></div></div></div></div></div><div class=\"sk-item\"><div class=\"sk-estimator sk-toggleable\"><input class=\"sk-toggleable__control sk-hidden--visually\" id=\"sk-estimator-id-5\" type=\"checkbox\" ><label for=\"sk-estimator-id-5\" class=\"sk-toggleable__label sk-toggleable__label-arrow\">RandomForestRegressor</label><div class=\"sk-toggleable__content\"><pre>RandomForestRegressor(random_state=42)</pre></div></div></div></div></div></div></div>"
      ],
      "text/plain": [
       "Pipeline(steps=[('preprocessor',\n",
       "                 ColumnTransformer(transformers=[('num', SimpleImputer(),\n",
       "                                                  Index(['Year', 'Date In Fraction Of Year', 'Standard Deviation'], dtype='object'))])),\n",
       "                ('regressor', RandomForestRegressor(random_state=42))])"
      ]
     },
     "execution_count": 24,
     "metadata": {},
     "output_type": "execute_result"
    }
   ],
   "source": [
    "from sklearn.ensemble import RandomForestRegressor\n",
    "from sklearn.pipeline import Pipeline\n",
    "\n",
    "# Create the regressor\n",
    "rf_pipeline = Pipeline(steps=[('preprocessor', preprocessor),\n",
    "                               ('regressor', RandomForestRegressor(random_state=42))])\n",
    "\n",
    "# Train the regressor on the training data\n",
    "rf_pipeline.fit(X_train, y_train)"
   ]
  },
  {
   "cell_type": "code",
   "execution_count": 25,
   "id": "def04d4d",
   "metadata": {},
   "outputs": [
    {
     "name": "stdout",
     "output_type": "stream",
     "text": [
      "Mean absolute error: 3.54\n",
      "Random Forest Mean squared error: 126.89\n"
     ]
    }
   ],
   "source": [
    "# Make predictions on the test set\n",
    "rf_preds = rf_pipeline.predict(X_test)\n",
    "\n",
    "# Evaluate the model\n",
    "from sklearn.metrics import mean_absolute_error\n",
    "rf_mae = mean_absolute_error(y_test, rf_preds)\n",
    "print(\"Mean absolute error: %.2f\" % rf_mae)\n",
    "\n",
    "\n",
    "from sklearn.metrics import mean_squared_error\n",
    "rf_mse = mean_squared_error(y_test, rf_preds)\n",
    "print(\"Random Forest Mean squared error: %.2f\" % rf_mse)\n",
    "\n",
    "\n"
   ]
  },
  {
   "cell_type": "markdown",
   "id": "dce133dc",
   "metadata": {},
   "source": [
    "### Model 2: Linear Regression with Polynomial Features"
   ]
  },
  {
   "cell_type": "code",
   "execution_count": null,
   "id": "bfb38499",
   "metadata": {},
   "outputs": [],
   "source": []
  },
  {
   "cell_type": "code",
   "execution_count": 26,
   "id": "eef72bb0",
   "metadata": {},
   "outputs": [
    {
     "data": {
      "text/html": [
       "<style>#sk-container-id-2 {color: black;}#sk-container-id-2 pre{padding: 0;}#sk-container-id-2 div.sk-toggleable {background-color: white;}#sk-container-id-2 label.sk-toggleable__label {cursor: pointer;display: block;width: 100%;margin-bottom: 0;padding: 0.3em;box-sizing: border-box;text-align: center;}#sk-container-id-2 label.sk-toggleable__label-arrow:before {content: \"▸\";float: left;margin-right: 0.25em;color: #696969;}#sk-container-id-2 label.sk-toggleable__label-arrow:hover:before {color: black;}#sk-container-id-2 div.sk-estimator:hover label.sk-toggleable__label-arrow:before {color: black;}#sk-container-id-2 div.sk-toggleable__content {max-height: 0;max-width: 0;overflow: hidden;text-align: left;background-color: #f0f8ff;}#sk-container-id-2 div.sk-toggleable__content pre {margin: 0.2em;color: black;border-radius: 0.25em;background-color: #f0f8ff;}#sk-container-id-2 input.sk-toggleable__control:checked~div.sk-toggleable__content {max-height: 200px;max-width: 100%;overflow: auto;}#sk-container-id-2 input.sk-toggleable__control:checked~label.sk-toggleable__label-arrow:before {content: \"▾\";}#sk-container-id-2 div.sk-estimator input.sk-toggleable__control:checked~label.sk-toggleable__label {background-color: #d4ebff;}#sk-container-id-2 div.sk-label input.sk-toggleable__control:checked~label.sk-toggleable__label {background-color: #d4ebff;}#sk-container-id-2 input.sk-hidden--visually {border: 0;clip: rect(1px 1px 1px 1px);clip: rect(1px, 1px, 1px, 1px);height: 1px;margin: -1px;overflow: hidden;padding: 0;position: absolute;width: 1px;}#sk-container-id-2 div.sk-estimator {font-family: monospace;background-color: #f0f8ff;border: 1px dotted black;border-radius: 0.25em;box-sizing: border-box;margin-bottom: 0.5em;}#sk-container-id-2 div.sk-estimator:hover {background-color: #d4ebff;}#sk-container-id-2 div.sk-parallel-item::after {content: \"\";width: 100%;border-bottom: 1px solid gray;flex-grow: 1;}#sk-container-id-2 div.sk-label:hover label.sk-toggleable__label {background-color: #d4ebff;}#sk-container-id-2 div.sk-serial::before {content: \"\";position: absolute;border-left: 1px solid gray;box-sizing: border-box;top: 0;bottom: 0;left: 50%;z-index: 0;}#sk-container-id-2 div.sk-serial {display: flex;flex-direction: column;align-items: center;background-color: white;padding-right: 0.2em;padding-left: 0.2em;position: relative;}#sk-container-id-2 div.sk-item {position: relative;z-index: 1;}#sk-container-id-2 div.sk-parallel {display: flex;align-items: stretch;justify-content: center;background-color: white;position: relative;}#sk-container-id-2 div.sk-item::before, #sk-container-id-2 div.sk-parallel-item::before {content: \"\";position: absolute;border-left: 1px solid gray;box-sizing: border-box;top: 0;bottom: 0;left: 50%;z-index: -1;}#sk-container-id-2 div.sk-parallel-item {display: flex;flex-direction: column;z-index: 1;position: relative;background-color: white;}#sk-container-id-2 div.sk-parallel-item:first-child::after {align-self: flex-end;width: 50%;}#sk-container-id-2 div.sk-parallel-item:last-child::after {align-self: flex-start;width: 50%;}#sk-container-id-2 div.sk-parallel-item:only-child::after {width: 0;}#sk-container-id-2 div.sk-dashed-wrapped {border: 1px dashed gray;margin: 0 0.4em 0.5em 0.4em;box-sizing: border-box;padding-bottom: 0.4em;background-color: white;}#sk-container-id-2 div.sk-label label {font-family: monospace;font-weight: bold;display: inline-block;line-height: 1.2em;}#sk-container-id-2 div.sk-label-container {text-align: center;}#sk-container-id-2 div.sk-container {/* jupyter's `normalize.less` sets `[hidden] { display: none; }` but bootstrap.min.css set `[hidden] { display: none !important; }` so we also need the `!important` here to be able to override the default hidden behavior on the sphinx rendered scikit-learn.org. See: https://github.com/scikit-learn/scikit-learn/issues/21755 */display: inline-block !important;position: relative;}#sk-container-id-2 div.sk-text-repr-fallback {display: none;}</style><div id=\"sk-container-id-2\" class=\"sk-top-container\"><div class=\"sk-text-repr-fallback\"><pre>Pipeline(steps=[(&#x27;preprocessor&#x27;,\n",
       "                 ColumnTransformer(transformers=[(&#x27;num&#x27;, SimpleImputer(),\n",
       "                                                  Index([&#x27;Year&#x27;, &#x27;Date In Fraction Of Year&#x27;, &#x27;Standard Deviation&#x27;], dtype=&#x27;object&#x27;))])),\n",
       "                (&#x27;regressor&#x27;, LinearRegression())])</pre><b>In a Jupyter environment, please rerun this cell to show the HTML representation or trust the notebook. <br />On GitHub, the HTML representation is unable to render, please try loading this page with nbviewer.org.</b></div><div class=\"sk-container\" hidden><div class=\"sk-item sk-dashed-wrapped\"><div class=\"sk-label-container\"><div class=\"sk-label sk-toggleable\"><input class=\"sk-toggleable__control sk-hidden--visually\" id=\"sk-estimator-id-6\" type=\"checkbox\" ><label for=\"sk-estimator-id-6\" class=\"sk-toggleable__label sk-toggleable__label-arrow\">Pipeline</label><div class=\"sk-toggleable__content\"><pre>Pipeline(steps=[(&#x27;preprocessor&#x27;,\n",
       "                 ColumnTransformer(transformers=[(&#x27;num&#x27;, SimpleImputer(),\n",
       "                                                  Index([&#x27;Year&#x27;, &#x27;Date In Fraction Of Year&#x27;, &#x27;Standard Deviation&#x27;], dtype=&#x27;object&#x27;))])),\n",
       "                (&#x27;regressor&#x27;, LinearRegression())])</pre></div></div></div><div class=\"sk-serial\"><div class=\"sk-item sk-dashed-wrapped\"><div class=\"sk-label-container\"><div class=\"sk-label sk-toggleable\"><input class=\"sk-toggleable__control sk-hidden--visually\" id=\"sk-estimator-id-7\" type=\"checkbox\" ><label for=\"sk-estimator-id-7\" class=\"sk-toggleable__label sk-toggleable__label-arrow\">preprocessor: ColumnTransformer</label><div class=\"sk-toggleable__content\"><pre>ColumnTransformer(transformers=[(&#x27;num&#x27;, SimpleImputer(),\n",
       "                                 Index([&#x27;Year&#x27;, &#x27;Date In Fraction Of Year&#x27;, &#x27;Standard Deviation&#x27;], dtype=&#x27;object&#x27;))])</pre></div></div></div><div class=\"sk-parallel\"><div class=\"sk-parallel-item\"><div class=\"sk-item\"><div class=\"sk-label-container\"><div class=\"sk-label sk-toggleable\"><input class=\"sk-toggleable__control sk-hidden--visually\" id=\"sk-estimator-id-8\" type=\"checkbox\" ><label for=\"sk-estimator-id-8\" class=\"sk-toggleable__label sk-toggleable__label-arrow\">num</label><div class=\"sk-toggleable__content\"><pre>Index([&#x27;Year&#x27;, &#x27;Date In Fraction Of Year&#x27;, &#x27;Standard Deviation&#x27;], dtype=&#x27;object&#x27;)</pre></div></div></div><div class=\"sk-serial\"><div class=\"sk-item\"><div class=\"sk-estimator sk-toggleable\"><input class=\"sk-toggleable__control sk-hidden--visually\" id=\"sk-estimator-id-9\" type=\"checkbox\" ><label for=\"sk-estimator-id-9\" class=\"sk-toggleable__label sk-toggleable__label-arrow\">SimpleImputer</label><div class=\"sk-toggleable__content\"><pre>SimpleImputer()</pre></div></div></div></div></div></div></div></div><div class=\"sk-item\"><div class=\"sk-estimator sk-toggleable\"><input class=\"sk-toggleable__control sk-hidden--visually\" id=\"sk-estimator-id-10\" type=\"checkbox\" ><label for=\"sk-estimator-id-10\" class=\"sk-toggleable__label sk-toggleable__label-arrow\">LinearRegression</label><div class=\"sk-toggleable__content\"><pre>LinearRegression()</pre></div></div></div></div></div></div></div>"
      ],
      "text/plain": [
       "Pipeline(steps=[('preprocessor',\n",
       "                 ColumnTransformer(transformers=[('num', SimpleImputer(),\n",
       "                                                  Index(['Year', 'Date In Fraction Of Year', 'Standard Deviation'], dtype='object'))])),\n",
       "                ('regressor', LinearRegression())])"
      ]
     },
     "execution_count": 26,
     "metadata": {},
     "output_type": "execute_result"
    }
   ],
   "source": [
    "from sklearn.linear_model import LinearRegression\n",
    "lr_pipeline = Pipeline(steps=[('preprocessor', preprocessor),\n",
    "                               ('regressor', LinearRegression())])\n",
    "lr_pipeline.fit(X_train, y_train)"
   ]
  },
  {
   "cell_type": "code",
   "execution_count": 27,
   "id": "7abdd7bf",
   "metadata": {},
   "outputs": [
    {
     "name": "stdout",
     "output_type": "stream",
     "text": [
      "Linear Regression Mean squared error: 1209.35\n",
      "Mean absolute error: 23.97\n"
     ]
    }
   ],
   "source": [
    "lr_preds = lr_pipeline.predict(X_test)\n",
    "\n",
    "lr_mse = mean_squared_error(y_test, lr_preds)\n",
    "print(\"Linear Regression Mean squared error: %.2f\" % lr_mse)\n",
    "\n",
    "lr_mae = mean_absolute_error(y_test, lr_preds)\n",
    "print(\"Mean absolute error: %.2f\" % lr_mae)"
   ]
  },
  {
   "cell_type": "markdown",
   "id": "beeca46a",
   "metadata": {},
   "source": [
    "### Model 3: Artificial Neural Network"
   ]
  },
  {
   "cell_type": "code",
   "execution_count": 28,
   "id": "cf8cf5ae",
   "metadata": {},
   "outputs": [
    {
     "name": "stderr",
     "output_type": "stream",
     "text": [
      "C:\\Users\\Chukky\\anaconda3\\Lib\\site-packages\\sklearn\\neural_network\\_multilayer_perceptron.py:691: ConvergenceWarning: Stochastic Optimizer: Maximum iterations (9) reached and the optimization hasn't converged yet.\n",
      "  warnings.warn(\n"
     ]
    },
    {
     "data": {
      "text/html": [
       "<style>#sk-container-id-3 {color: black;}#sk-container-id-3 pre{padding: 0;}#sk-container-id-3 div.sk-toggleable {background-color: white;}#sk-container-id-3 label.sk-toggleable__label {cursor: pointer;display: block;width: 100%;margin-bottom: 0;padding: 0.3em;box-sizing: border-box;text-align: center;}#sk-container-id-3 label.sk-toggleable__label-arrow:before {content: \"▸\";float: left;margin-right: 0.25em;color: #696969;}#sk-container-id-3 label.sk-toggleable__label-arrow:hover:before {color: black;}#sk-container-id-3 div.sk-estimator:hover label.sk-toggleable__label-arrow:before {color: black;}#sk-container-id-3 div.sk-toggleable__content {max-height: 0;max-width: 0;overflow: hidden;text-align: left;background-color: #f0f8ff;}#sk-container-id-3 div.sk-toggleable__content pre {margin: 0.2em;color: black;border-radius: 0.25em;background-color: #f0f8ff;}#sk-container-id-3 input.sk-toggleable__control:checked~div.sk-toggleable__content {max-height: 200px;max-width: 100%;overflow: auto;}#sk-container-id-3 input.sk-toggleable__control:checked~label.sk-toggleable__label-arrow:before {content: \"▾\";}#sk-container-id-3 div.sk-estimator input.sk-toggleable__control:checked~label.sk-toggleable__label {background-color: #d4ebff;}#sk-container-id-3 div.sk-label input.sk-toggleable__control:checked~label.sk-toggleable__label {background-color: #d4ebff;}#sk-container-id-3 input.sk-hidden--visually {border: 0;clip: rect(1px 1px 1px 1px);clip: rect(1px, 1px, 1px, 1px);height: 1px;margin: -1px;overflow: hidden;padding: 0;position: absolute;width: 1px;}#sk-container-id-3 div.sk-estimator {font-family: monospace;background-color: #f0f8ff;border: 1px dotted black;border-radius: 0.25em;box-sizing: border-box;margin-bottom: 0.5em;}#sk-container-id-3 div.sk-estimator:hover {background-color: #d4ebff;}#sk-container-id-3 div.sk-parallel-item::after {content: \"\";width: 100%;border-bottom: 1px solid gray;flex-grow: 1;}#sk-container-id-3 div.sk-label:hover label.sk-toggleable__label {background-color: #d4ebff;}#sk-container-id-3 div.sk-serial::before {content: \"\";position: absolute;border-left: 1px solid gray;box-sizing: border-box;top: 0;bottom: 0;left: 50%;z-index: 0;}#sk-container-id-3 div.sk-serial {display: flex;flex-direction: column;align-items: center;background-color: white;padding-right: 0.2em;padding-left: 0.2em;position: relative;}#sk-container-id-3 div.sk-item {position: relative;z-index: 1;}#sk-container-id-3 div.sk-parallel {display: flex;align-items: stretch;justify-content: center;background-color: white;position: relative;}#sk-container-id-3 div.sk-item::before, #sk-container-id-3 div.sk-parallel-item::before {content: \"\";position: absolute;border-left: 1px solid gray;box-sizing: border-box;top: 0;bottom: 0;left: 50%;z-index: -1;}#sk-container-id-3 div.sk-parallel-item {display: flex;flex-direction: column;z-index: 1;position: relative;background-color: white;}#sk-container-id-3 div.sk-parallel-item:first-child::after {align-self: flex-end;width: 50%;}#sk-container-id-3 div.sk-parallel-item:last-child::after {align-self: flex-start;width: 50%;}#sk-container-id-3 div.sk-parallel-item:only-child::after {width: 0;}#sk-container-id-3 div.sk-dashed-wrapped {border: 1px dashed gray;margin: 0 0.4em 0.5em 0.4em;box-sizing: border-box;padding-bottom: 0.4em;background-color: white;}#sk-container-id-3 div.sk-label label {font-family: monospace;font-weight: bold;display: inline-block;line-height: 1.2em;}#sk-container-id-3 div.sk-label-container {text-align: center;}#sk-container-id-3 div.sk-container {/* jupyter's `normalize.less` sets `[hidden] { display: none; }` but bootstrap.min.css set `[hidden] { display: none !important; }` so we also need the `!important` here to be able to override the default hidden behavior on the sphinx rendered scikit-learn.org. See: https://github.com/scikit-learn/scikit-learn/issues/21755 */display: inline-block !important;position: relative;}#sk-container-id-3 div.sk-text-repr-fallback {display: none;}</style><div id=\"sk-container-id-3\" class=\"sk-top-container\"><div class=\"sk-text-repr-fallback\"><pre>MLPRegressor(activation=&#x27;tanh&#x27;, hidden_layer_sizes=(900,),\n",
       "             learning_rate_init=0.1, max_iter=9)</pre><b>In a Jupyter environment, please rerun this cell to show the HTML representation or trust the notebook. <br />On GitHub, the HTML representation is unable to render, please try loading this page with nbviewer.org.</b></div><div class=\"sk-container\" hidden><div class=\"sk-item\"><div class=\"sk-estimator sk-toggleable\"><input class=\"sk-toggleable__control sk-hidden--visually\" id=\"sk-estimator-id-11\" type=\"checkbox\" checked><label for=\"sk-estimator-id-11\" class=\"sk-toggleable__label sk-toggleable__label-arrow\">MLPRegressor</label><div class=\"sk-toggleable__content\"><pre>MLPRegressor(activation=&#x27;tanh&#x27;, hidden_layer_sizes=(900,),\n",
       "             learning_rate_init=0.1, max_iter=9)</pre></div></div></div></div></div>"
      ],
      "text/plain": [
       "MLPRegressor(activation='tanh', hidden_layer_sizes=(900,),\n",
       "             learning_rate_init=0.1, max_iter=9)"
      ]
     },
     "execution_count": 28,
     "metadata": {},
     "output_type": "execute_result"
    }
   ],
   "source": [
    "from sklearn.neural_network import MLPRegressor\n",
    "\n",
    "mlp = MLPRegressor(\n",
    " hidden_layer_sizes=(900,), activation='tanh',\n",
    " solver='adam',\n",
    " alpha=0.0001,\n",
    " batch_size='auto',\n",
    " learning_rate='constant',\n",
    " learning_rate_init=0.1,\n",
    " power_t=0.5,\n",
    " max_iter=9) \n",
    "\n",
    "mlp.fit(X_scaled_trained, y_train)\n",
    "# mlp.fit(X_scaled, y_train)"
   ]
  },
  {
   "cell_type": "code",
   "execution_count": 29,
   "id": "d7469b7d",
   "metadata": {},
   "outputs": [
    {
     "name": "stdout",
     "output_type": "stream",
     "text": [
      "Mean squared error: 358.89\n",
      "Mean absolute error: 9.35\n"
     ]
    }
   ],
   "source": [
    "# y_pred3 = mlp.predict(X_test)\n",
    "ann_preds = mlp.predict(X_scaled_test)\n",
    "\n",
    "ann_mse = mean_squared_error(y_test, ann_preds)\n",
    "print(\"Mean squared error: %.2f\" % ann_mse)\n",
    "ann_mae = mean_absolute_error(y_test, ann_preds)\n",
    "print(\"Mean absolute error: %.2f\" % ann_mae)"
   ]
  },
  {
   "cell_type": "markdown",
   "id": "bf553877",
   "metadata": {},
   "source": [
    "## Model Comparision"
   ]
  },
  {
   "cell_type": "code",
   "execution_count": 30,
   "id": "11025b7a",
   "metadata": {},
   "outputs": [
    {
     "data": {
      "text/html": [
       "<div>\n",
       "<style scoped>\n",
       "    .dataframe tbody tr th:only-of-type {\n",
       "        vertical-align: middle;\n",
       "    }\n",
       "\n",
       "    .dataframe tbody tr th {\n",
       "        vertical-align: top;\n",
       "    }\n",
       "\n",
       "    .dataframe thead th {\n",
       "        text-align: right;\n",
       "    }\n",
       "</style>\n",
       "<table border=\"1\" class=\"dataframe\">\n",
       "  <thead>\n",
       "    <tr style=\"text-align: right;\">\n",
       "      <th></th>\n",
       "      <th>Random_Forest</th>\n",
       "      <th>Linear_Regression</th>\n",
       "      <th>ANN</th>\n",
       "    </tr>\n",
       "  </thead>\n",
       "  <tbody>\n",
       "    <tr>\n",
       "      <th>Mean_absolute_error</th>\n",
       "      <td>3.539856</td>\n",
       "      <td>23.974173</td>\n",
       "      <td>9.351783</td>\n",
       "    </tr>\n",
       "  </tbody>\n",
       "</table>\n",
       "</div>"
      ],
      "text/plain": [
       "                     Random_Forest  Linear_Regression       ANN\n",
       "Mean_absolute_error       3.539856          23.974173  9.351783"
      ]
     },
     "metadata": {},
     "output_type": "display_data"
    },
    {
     "data": {
      "image/png": "[encoded data removed]",
      "text/plain": [
       "<Figure size 1000x500 with 1 Axes>"
      ]
     },
     "metadata": {},
     "output_type": "display_data"
    }
   ],
   "source": [
    "model_compare = pd.DataFrame({\"Random_Forest\":rf_mae, \"Linear_Regression\":lr_mae, \"ANN\":ann_mae}, index=[\"Mean_absolute_error\"])\n",
    "model_compare.T.plot.bar(figsize=[10, 5]) \n",
    "\n",
    "display(model_compare)\n",
    "\n",
    "plt.show( )"
   ]
  },
  {
   "cell_type": "code",
   "execution_count": 31,
   "id": "b6f4c825",
   "metadata": {},
   "outputs": [
    {
     "data": {
      "text/html": [
       "<div>\n",
       "<style scoped>\n",
       "    .dataframe tbody tr th:only-of-type {\n",
       "        vertical-align: middle;\n",
       "    }\n",
       "\n",
       "    .dataframe tbody tr th {\n",
       "        vertical-align: top;\n",
       "    }\n",
       "\n",
       "    .dataframe thead th {\n",
       "        text-align: right;\n",
       "    }\n",
       "</style>\n",
       "<table border=\"1\" class=\"dataframe\">\n",
       "  <thead>\n",
       "    <tr style=\"text-align: right;\">\n",
       "      <th></th>\n",
       "      <th>Random_Forest</th>\n",
       "      <th>Linear_Regression</th>\n",
       "      <th>ANN</th>\n",
       "    </tr>\n",
       "  </thead>\n",
       "  <tbody>\n",
       "    <tr>\n",
       "      <th>Mean_squared_error</th>\n",
       "      <td>126.887939</td>\n",
       "      <td>1209.354549</td>\n",
       "      <td>358.894976</td>\n",
       "    </tr>\n",
       "  </tbody>\n",
       "</table>\n",
       "</div>"
      ],
      "text/plain": [
       "                    Random_Forest  Linear_Regression         ANN\n",
       "Mean_squared_error     126.887939        1209.354549  358.894976"
      ]
     },
     "metadata": {},
     "output_type": "display_data"
    },
    {
     "data": {
      "image/png": "[encoded data removed]",
      "text/plain": [
       "<Figure size 1000x500 with 1 Axes>"
      ]
     },
     "metadata": {},
     "output_type": "display_data"
    }
   ],
   "source": [
    "model_compare = pd.DataFrame({\"Random_Forest\":rf_mse, \"Linear_Regression\":lr_mse, \"ANN\":ann_mse}, index=[\"Mean_squared_error\"])\n",
    "model_compare.T.plot.bar(figsize=[10, 5]) \n",
    "\n",
    "display(model_compare)\n",
    "\n",
    "plt.show( )"
   ]
  },
  {
   "cell_type": "markdown",
   "id": "34a04b06",
   "metadata": {},
   "source": [
    "Random Forest Regressor not only provided predictions closest to the actual numbers of sunspots, but it also had fewer large errors, making it the most suitable model for this project according to the analysis.i\n",
    "/"
   ]
  },
  {
   "cell_type": "code",
   "execution_count": null,
   "id": "d261752d",
   "metadata": {},
   "outputs": [],
   "source": []
  }
 ],
 "metadata": {
  "kernelspec": {
   "display_name": "Python 3 (ipykernel)",
   "language": "python",
   "name": "python3"
  },
  "language_info": {
   "codemirror_mode": {
    "name": "ipython",
    "version": 3
   },
   "file_extension": ".py",
   "mimetype": "text/x-python",
   "name": "python",
   "nbconvert_exporter": "python",
   "pygments_lexer": "ipython3",
   "version": "3.11.5"
  }
 },
 "nbformat": 4,
 "nbformat_minor": 5
}
